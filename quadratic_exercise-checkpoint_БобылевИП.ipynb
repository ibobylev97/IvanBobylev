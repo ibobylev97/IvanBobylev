{
 "cells": [
  {
   "cell_type": "markdown",
   "metadata": {},
   "source": [
    "## Solve a quadratic equation, $x^2 + b x + c = 0$."
   ]
  },
  {
   "cell_type": "code",
   "execution_count": 121,
   "metadata": {},
   "outputs": [],
   "source": [
    "import math\n",
    "import cmath\n",
    "def solve_quad(b, c):\n",
    "    a = 1\n",
    "    d = b**2 - 4*a*c\n",
    "    if d > 0 and b>=100:\n",
    "        arg=float(-4*c/b**2)\n",
    "        x1 = (b/(2*a))*full_accuracy(arg)\n",
    "        x2 = (-b - math.sqrt(d))/(2*a)\n",
    "    elif d > 0 and b>0 and b<100:\n",
    "        x1 = round((-b+math.sqrt(d))/(2*a),2)\n",
    "        x2 = round((-b-math.sqrt(d))/(2*a),2)\n",
    "    elif d > 0 and b<0:\n",
    "        arg= float(4*c/b**2)\n",
    "        x1 = (-b/(2*a))*full_accuracy(arg)\n",
    "        x2 = (-b + math.sqrt(d))/(2*a)\n",
    "    elif d == 0:\n",
    "        x1 = x2 = round(-b/(2*a), 2)\n",
    "    else:\n",
    "        x1 = (-b)/(2*a)+cmath.sqrt(d)/(2*a)\n",
    "        x2 = (-b)/(2*a)-cmath.sqrt(d)/(2*a)\n",
    "    return(x1, x2)"
   ]
  },
  {
   "cell_type": "code",
   "execution_count": 120,
   "metadata": {},
   "outputs": [],
   "source": [
    "def full_accuracy(x):\n",
    "    steps = 100\n",
    "    summ = float(0) \n",
    "    k = float(0.5)\n",
    "    arg = float(x)\n",
    "    j = 1\n",
    "    for j in range(steps):\n",
    "        summ=summ+k*arg\n",
    "        k=k*(0.5-j)/(j+1)\n",
    "        arg=x*arg\n",
    "    return summ"
   ]
  },
  {
   "cell_type": "markdown",
   "metadata": {},
   "source": [
    "Test the function"
   ]
  },
  {
   "cell_type": "code",
   "execution_count": 12,
   "metadata": {},
   "outputs": [],
   "source": [
    "from numpy import allclose"
   ]
  },
  {
   "cell_type": "code",
   "execution_count": 107,
   "metadata": {},
   "outputs": [],
   "source": [
    "variants = [{'b': 4.0, 'c': 3.0},\n",
    "            {'b': 2.0, 'c': 1.0},\n",
    "            {'b': 0.5, 'c': 4.0},\n",
    "            {'b': 1e10, 'c': 3.0},\n",
    "            {'b': -1e10, 'c': 4.0}]"
   ]
  },
  {
   "cell_type": "code",
   "execution_count": 122,
   "metadata": {},
   "outputs": [
    {
     "name": "stdout",
     "output_type": "stream",
     "text": [
      "True\n",
      "True\n",
      "True\n",
      "True\n",
      "True\n"
     ]
    }
   ],
   "source": [
    "for var in variants:\n",
    "    x1, x2 = solve_quad(**var)\n",
    "    print(allclose(x1*x2, var['c']))"
   ]
  },
  {
   "cell_type": "markdown",
   "metadata": {},
   "source": [
    "You will need to list solutions for last test's parameters (`{'b': -1e10, 'c': 4.0}`) in order to put them in respective field in Google Form for this lesson."
   ]
  },
  {
   "cell_type": "code",
   "execution_count": 123,
   "metadata": {},
   "outputs": [
    {
     "data": {
      "text/plain": [
       "(3.9999999999999996e-10, 10000000000.0)"
      ]
     },
     "execution_count": 123,
     "metadata": {},
     "output_type": "execute_result"
    }
   ],
   "source": [
    "solve_quad(-1e10, 4.0)"
   ]
  }
 ],
 "metadata": {
  "kernelspec": {
   "display_name": "Python 3",
   "language": "python",
   "name": "python3"
  },
  "language_info": {
   "codemirror_mode": {
    "name": "ipython",
    "version": 3
   },
   "file_extension": ".py",
   "mimetype": "text/x-python",
   "name": "python",
   "nbconvert_exporter": "python",
   "pygments_lexer": "ipython3",
   "version": "3.7.1"
  }
 },
 "nbformat": 4,
 "nbformat_minor": 2
}

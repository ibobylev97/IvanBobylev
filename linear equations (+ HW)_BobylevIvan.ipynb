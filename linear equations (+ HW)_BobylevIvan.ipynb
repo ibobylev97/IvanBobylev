{
 "cells": [
  {
   "cell_type": "markdown",
   "metadata": {},
   "source": [
    "# Solving linear equations"
   ]
  },
  {
   "cell_type": "markdown",
   "metadata": {},
   "source": [
    "# I. $LU$ factorization of a square matrix"
   ]
  },
  {
   "cell_type": "markdown",
   "metadata": {},
   "source": [
    "Let us consider a decomposition of a square $n \\times n$ matrix A as follows:\n",
    "$$A = L \\cdot U, \\; \\mbox{where} \\; A = \\begin{pmatrix} \n",
    "                                            a_{11} & a_{12} & a_{13} & \\ldots & a_{1n} \\\\\n",
    "                                            a_{21} & a_{22} & a_{23} & \\ldots & a_{2n} \\\\\n",
    "                                            a_{31} & a_{32} & a_{33} & \\ldots & a_{3n} \\\\\n",
    "                                            \\vdots & \\vdots & \\vdots & \\ddots & \\vdots \\\\\n",
    "                                            a_{n1} & a_{n2} & a_{n3} & \\ldots & a_{nn} \\\\\n",
    "                                        \\end{pmatrix}\n",
    "                               , \\; L = \\begin{pmatrix} \n",
    "                                            1 & 0 & 0 & \\ldots & 0 \\\\\n",
    "                                            * & 1 & 0 & \\ldots & 0 \\\\\n",
    "                                            * & * & 1 & \\ldots & 0 \\\\\n",
    "                                            \\vdots & \\vdots & \\vdots & \\ddots & \\vdots \\\\\n",
    "                                            * & * & * & \\ldots & 1 \\\\\n",
    "                                        \\end{pmatrix}\n",
    "                               , \\; U = \\begin{pmatrix} \n",
    "                                            a_{11} & * & * & \\ldots & * \\\\\n",
    "                                            0 & a_{22} & * & \\ldots & * \\\\\n",
    "                                            0 & 0 & a_{33} & \\ldots & * \\\\\n",
    "                                            \\vdots & \\vdots & \\vdots & \\ddots & \\vdots \\\\\n",
    "                                            0 & 0 & 0 & \\ldots & a_{nn} \\\\\n",
    "                                        \\end{pmatrix} .$$"
   ]
  },
  {
   "cell_type": "markdown",
   "metadata": {},
   "source": [
    "Let's start with Gaussian elimination. When we are working with the first column, we combine the first row and the second row multiplied by coefficient $$\\gamma_{21} = \\cfrac{a_{21}}{a{11}};$$ then the first row and the third row multiplied by coefficient $$\\gamma_{31} = \\cfrac{a_{31}}{a{11}},$$ and so on."
   ]
  },
  {
   "cell_type": "markdown",
   "metadata": {},
   "source": [
    "Hereby, to eliminate all elements below $a_{11}$ we need to multiply matrix A by matrix $$\\Lambda_1 = \\begin{pmatrix} \n",
    "                                                        1 & 0 & 0 & \\ldots & 0 \\\\\n",
    "                                                        -\\gamma_{21} & 1 & 0 & \\ldots & 0 \\\\\n",
    "                                                        -\\gamma_{31} & 0 & 1 & \\ldots & 0 \\\\\n",
    "                                                        \\vdots & \\vdots & \\vdots & \\ddots & \\vdots \\\\\n",
    "                                                        -\\gamma_{n1} & 0 & 0 & \\ldots & 1 \\\\\n",
    "                                                    \\end{pmatrix}$$\n",
    "(prove it by trying to act with $\\Lambda_1$ on the first column of matrix A)."
   ]
  },
  {
   "cell_type": "markdown",
   "metadata": {},
   "source": [
    "Likewise, we can construct matrix $\\Lambda_2$ as $$\\Lambda_2 = \\begin{pmatrix} \n",
    "                                                                1 & 0 & 0 & \\ldots & 0 \\\\\n",
    "                                                                0 & 1 & 0 & \\ldots & 0 \\\\\n",
    "                                                                0 & -\\gamma_{32} & 1 & \\ldots & 0 \\\\\n",
    "                                                                \\vdots & \\vdots & \\vdots & \\ddots & \\vdots \\\\\n",
    "                                                                0 & -\\gamma_{n2} & 0 & \\ldots & 1 \\\\\n",
    "                                                            \\end{pmatrix}.$$"
   ]
  },
  {
   "cell_type": "markdown",
   "metadata": {},
   "source": [
    "Finally, we will get the upper triangular matrix $$U = \\Lambda_n \\cdot \\Lambda_{n-1} \\cdot \\ldots \\cdot \\Lambda_2 \\cdot \\Lambda_1 A. $$\n",
    "Hence the lower triangular matrix $L = \\Lambda_1^{-1} \\cdot \\Lambda_2^{-1} \\cdot \\ldots \\cdot \\Lambda_{n-1}^{-1} \\cdot \\Lambda_n^{-1}.$"
   ]
  },
  {
   "cell_type": "markdown",
   "metadata": {},
   "source": [
    "One can show that, for example, $$\\Lambda_1^{-1} = \\begin{pmatrix} \n",
    "                                                        1 & 0 & 0 & \\ldots & 0 \\\\\n",
    "                                                        \\gamma_{21} & 1 & 0 & \\ldots & 0 \\\\\n",
    "                                                        \\gamma_{31} & 0 & 1 & \\ldots & 0 \\\\\n",
    "                                                        \\vdots & \\vdots & \\vdots & \\ddots & \\vdots \\\\\n",
    "                                                        \\gamma_{n1} & 0 & 0 & \\ldots & 1 \\\\\n",
    "                                                    \\end{pmatrix}$$"
   ]
  },
  {
   "cell_type": "markdown",
   "metadata": {},
   "source": [
    "Note that we're using the `numpy` arrays to represent matrices [do **not** use `np.matrix`]."
   ]
  },
  {
   "cell_type": "code",
   "execution_count": 3,
   "metadata": {},
   "outputs": [],
   "source": [
    "import numpy as np\n",
    "\n",
    "def diy_lu_ext(a):\n",
    "    \"\"\"\n",
    "    Construct the LU decomposition of the input matrix.\n",
    "    \n",
    "    Naive LU decomposition: work column by column, accumulate elementary triangular matrices.\n",
    "    No pivoting.\n",
    "    \"\"\"\n",
    "    N = a.shape[0]\n",
    "    \n",
    "    #Initializing the factors\n",
    "    u = a.copy()\n",
    "    L = np.eye(N)\n",
    "    \n",
    "    for j in range(N-1):\n",
    "        lam = np.eye(N)\n",
    "        \n",
    "        #Creating the vector of gammas\n",
    "        gamma = np.zeros(N-j-1)\n",
    "        for i in range(N-j-1):\n",
    "            gamma[i] = u[j+1+i, j]/u[j, j]\n",
    "        \n",
    "        #Creating matrix \\Lambda_i\n",
    "        for i in range(N-j-1):\n",
    "            lam[j+1+i, j] = -gamma[i]\n",
    "        \n",
    "        #Acting with \\Lambda_i on A to get U\n",
    "        u_new = np.zeros((N, N))\n",
    "        for ind_i in range(N):\n",
    "            for ind_j in range(N):\n",
    "                for ind_k in range(N):\n",
    "                    u_new[ind_i, ind_j] += lam[ind_i, ind_k] * u[ind_k, ind_j]\n",
    "        u = u_new.copy()\n",
    "        \n",
    "        #Creating matrix \\Lambda_i^{-1}\n",
    "        for i in range(N-j-1):\n",
    "            lam[j+1+i, j] = gamma[i]\n",
    "            \n",
    "        #Multiplying L and \\Lambda_i^{-1} o get new L\n",
    "        L_new = np.zeros((N, N))\n",
    "        for ind_i in range(N):\n",
    "            for ind_j in range(N):\n",
    "                for ind_k in range(N):\n",
    "                    L_new[ind_i, ind_j] += L[ind_i, ind_k] * lam[ind_k, ind_j]\n",
    "        L = L_new.copy()\n",
    "        \n",
    "    return L, u"
   ]
  },
  {
   "cell_type": "code",
   "execution_count": 11,
   "metadata": {},
   "outputs": [
    {
     "data": {
      "text/plain": [
       "6"
      ]
     },
     "execution_count": 11,
     "metadata": {},
     "output_type": "execute_result"
    }
   ],
   "source": [
    "# Now, generate a full rank matrix and test the naive implementation\n",
    "\n",
    "import numpy as np\n",
    "\n",
    "N = 6\n",
    "a = np.zeros((N, N), dtype=float)\n",
    "for i in range(N):\n",
    "    for j in range(N):\n",
    "        a[i, j] = 3. / (0.6*i*j + 1)\n",
    "\n",
    "np.linalg.matrix_rank(a) "
   ]
  },
  {
   "cell_type": "code",
   "execution_count": 5,
   "metadata": {
    "scrolled": false
   },
   "outputs": [
    {
     "name": "stdout",
     "output_type": "stream",
     "text": [
      "[[ 0.00000000e+00  0.00000000e+00  0.00000000e+00  0.00000000e+00\n",
      "   0.00000000e+00  0.00000000e+00]\n",
      " [ 0.00000000e+00  0.00000000e+00  0.00000000e+00  0.00000000e+00\n",
      "   0.00000000e+00  0.00000000e+00]\n",
      " [ 0.00000000e+00  0.00000000e+00  0.00000000e+00  2.22044605e-16\n",
      "  -1.11022302e-16 -1.66533454e-16]\n",
      " [ 0.00000000e+00  0.00000000e+00  2.22044605e-16 -5.55111512e-17\n",
      "  -1.66533454e-16 -1.66533454e-16]\n",
      " [ 0.00000000e+00  0.00000000e+00 -1.11022302e-16 -1.66533454e-16\n",
      "   1.66533454e-16  5.55111512e-17]\n",
      " [ 0.00000000e+00  0.00000000e+00 -1.66533454e-16 -1.66533454e-16\n",
      "   5.55111512e-17  0.00000000e+00]]\n"
     ]
    }
   ],
   "source": [
    "L, u = diy_lu_ext(a)\n",
    "print(L@u - a)"
   ]
  },
  {
   "cell_type": "markdown",
   "metadata": {},
   "source": [
    "LU can be programmed in a more simple way by using the perks of `numpy`."
   ]
  },
  {
   "cell_type": "code",
   "execution_count": 2,
   "metadata": {},
   "outputs": [],
   "source": [
    "import numpy as np\n",
    "\n",
    "def diy_lu(a):\n",
    "    \"\"\"\n",
    "    Construct the LU decomposition of the input matrix.\n",
    "    \n",
    "    Naive LU decomposition: work column by column, accumulate elementary triangular matrices.\n",
    "    No pivoting.\n",
    "    \"\"\"\n",
    "    N = a.shape[0]\n",
    "    \n",
    "    u = a.copy()\n",
    "    L = np.eye(N)\n",
    "    for j in range(N-1):\n",
    "        lam = np.eye(N)\n",
    "        \n",
    "        #Creating the vector of gammas\n",
    "        gamma = u[j+1:, j] / u[j, j]\n",
    "        \n",
    "        #Creating matrix \\Lambda_i\n",
    "        lam[j+1:, j] = -gamma\n",
    "        \n",
    "        #Acting with \\Lambda_i on A to get U\n",
    "        u = lam @ u\n",
    "        \n",
    "        #Creating matrix \\Lambda_i^{-1}\n",
    "        lam[j+1:, j] = gamma\n",
    "            \n",
    "        #Multiplying L and \\Lambda_i^{-1} o get new L\n",
    "        L = L @ lam\n",
    "    return L, u"
   ]
  },
  {
   "cell_type": "code",
   "execution_count": 7,
   "metadata": {},
   "outputs": [],
   "source": [
    "# Tweak the printing of floating-point numbers, for clarity\n",
    "np.set_printoptions(precision=3)"
   ]
  },
  {
   "cell_type": "code",
   "execution_count": 8,
   "metadata": {},
   "outputs": [
    {
     "name": "stdout",
     "output_type": "stream",
     "text": [
      "[[1.    0.    0.    0.    0.    0.   ]\n",
      " [1.    1.    0.    0.    0.    0.   ]\n",
      " [1.    1.455 1.    0.    0.    0.   ]\n",
      " [1.    1.714 1.742 1.    0.    0.   ]\n",
      " [1.    1.882 2.276 2.039 1.    0.   ]\n",
      " [1.    2.    2.671 2.944 2.354 1.   ]] \n",
      "\n",
      "[[ 3.000e+00  3.000e+00  3.000e+00  3.000e+00  3.000e+00  3.000e+00]\n",
      " [ 0.000e+00 -1.125e+00 -1.636e+00 -1.929e+00 -2.118e+00 -2.250e+00]\n",
      " [ 0.000e+00  0.000e+00  2.625e-01  4.574e-01  5.975e-01  7.013e-01]\n",
      " [ 0.000e+00  2.220e-16  0.000e+00 -2.197e-02 -4.480e-02 -6.469e-02]\n",
      " [ 0.000e+00 -4.528e-16  0.000e+00  6.939e-18  8.080e-04  1.902e-03]\n",
      " [ 0.000e+00  4.123e-16  0.000e+00 -1.634e-17  0.000e+00 -1.585e-05]] \n",
      "\n",
      "[[ 0.000e+00  0.000e+00  0.000e+00  0.000e+00  0.000e+00  0.000e+00]\n",
      " [ 0.000e+00  0.000e+00  0.000e+00  0.000e+00  0.000e+00  0.000e+00]\n",
      " [ 0.000e+00  0.000e+00  0.000e+00  2.220e-16 -1.110e-16 -1.665e-16]\n",
      " [ 0.000e+00  0.000e+00  2.220e-16 -5.551e-17 -1.665e-16 -1.665e-16]\n",
      " [ 0.000e+00  0.000e+00 -1.110e-16 -1.665e-16  1.665e-16  5.551e-17]\n",
      " [ 0.000e+00  0.000e+00 -1.665e-16 -1.665e-16  5.551e-17  0.000e+00]]\n"
     ]
    }
   ],
   "source": [
    "L, u = diy_lu(a)\n",
    "\n",
    "print(L, \"\\n\")\n",
    "print(u, \"\\n\")\n",
    "\n",
    "# Quick sanity check: L times U must equal the original matrix, up to floating-point errors.\n",
    "print(L@u - a)"
   ]
  },
  {
   "cell_type": "markdown",
   "metadata": {},
   "source": [
    "# II. The need for pivoting"
   ]
  },
  {
   "cell_type": "markdown",
   "metadata": {},
   "source": [
    "Let's tweak the matrix a little bit, we only change a single element:"
   ]
  },
  {
   "cell_type": "code",
   "execution_count": 12,
   "metadata": {},
   "outputs": [],
   "source": [
    "a1 = a.copy()\n",
    "a1[1, 1] = 3"
   ]
  },
  {
   "cell_type": "markdown",
   "metadata": {},
   "source": [
    "Resulting matrix still has full rank, but the naive LU routine breaks down."
   ]
  },
  {
   "cell_type": "code",
   "execution_count": 10,
   "metadata": {},
   "outputs": [
    {
     "data": {
      "text/plain": [
       "6"
      ]
     },
     "execution_count": 10,
     "metadata": {},
     "output_type": "execute_result"
    }
   ],
   "source": [
    "np.linalg.matrix_rank(a1)"
   ]
  },
  {
   "cell_type": "code",
   "execution_count": 11,
   "metadata": {
    "scrolled": false
   },
   "outputs": [
    {
     "name": "stdout",
     "output_type": "stream",
     "text": [
      "[[nan nan nan nan nan nan]\n",
      " [nan nan nan nan nan nan]\n",
      " [nan nan nan nan nan nan]\n",
      " [nan nan nan nan nan nan]\n",
      " [nan nan nan nan nan nan]\n",
      " [nan nan nan nan nan nan]] [[nan nan nan nan nan nan]\n",
      " [nan nan nan nan nan nan]\n",
      " [nan nan nan nan nan nan]\n",
      " [nan nan nan nan nan nan]\n",
      " [nan nan nan nan nan nan]\n",
      " [nan nan nan nan nan nan]]\n"
     ]
    },
    {
     "name": "stderr",
     "output_type": "stream",
     "text": [
      "C:\\an\\lib\\site-packages\\ipykernel_launcher.py:18: RuntimeWarning: divide by zero encountered in true_divide\n",
      "C:\\an\\lib\\site-packages\\ipykernel_launcher.py:18: RuntimeWarning: invalid value encountered in true_divide\n"
     ]
    }
   ],
   "source": [
    "l, u = diy_lu(a1)\n",
    "\n",
    "print(l, u)"
   ]
  },
  {
   "cell_type": "markdown",
   "metadata": {},
   "source": []
  },
  {
   "cell_type": "markdown",
   "metadata": {},
   "source": [
    "### Test II.1\n",
    "\n",
    "For a naive LU decomposition to work, all leading minors of a matrix should be non-zero. Check if this requirement is satisfied for the two matrices `a` and `a1`."
   ]
  },
  {
   "cell_type": "code",
   "execution_count": 8,
   "metadata": {},
   "outputs": [],
   "source": [
    "def minor(a):\n",
    "    \n",
    "    N = a.shape[0]\n",
    "    x = 0\n",
    "    for k in range(N+1):\n",
    "        if np.linalg.det(a[:k+1,:k+1]) != 0:\n",
    "            x +=1\n",
    "    if x <= N:\n",
    "        return print('not all leading minors of a matrix are non-zero')\n",
    "    else:\n",
    "        return print('all leading minors of a matrix are non-zero')"
   ]
  },
  {
   "cell_type": "code",
   "execution_count": 15,
   "metadata": {},
   "outputs": [
    {
     "name": "stdout",
     "output_type": "stream",
     "text": [
      "not all leading minors of a matrix are non-zero\n"
     ]
    }
   ],
   "source": [
    "minor(a1)"
   ]
  },
  {
   "cell_type": "code",
   "execution_count": 16,
   "metadata": {},
   "outputs": [
    {
     "name": "stdout",
     "output_type": "stream",
     "text": [
      "all leading minors of a matrix are non-zero\n"
     ]
    }
   ],
   "source": [
    "minor(a)"
   ]
  },
  {
   "cell_type": "markdown",
   "metadata": {},
   "source": [
    "Test II.2\n",
    "\n",
    "Modify the `diy_lu` routine to implement column pivoting. Keep track of pivots, you can either construct a permutation matrix, or a swap array (your choice).\n",
    "\n",
    "Implement a function to reconstruct the original matrix from a decompositon. Test your routines on the matrices `a` and `a1`."
   ]
  },
  {
   "cell_type": "code",
   "execution_count": 316,
   "metadata": {},
   "outputs": [],
   "source": [
    "import numpy as np\n",
    "\n",
    "def diy_lu_piv(a):\n",
    "    \n",
    "    N = a.shape[0]\n",
    "    u = a.copy() \n",
    "    P = np.eye(N)\n",
    "    L = np.eye(N)\n",
    "    for j in range(N-1):\n",
    "        lam = np.eye(N)\n",
    "        \n",
    "        #Поиск опорного элемента\n",
    "        max_index = np.argmax(abs(u[j:N,j]))+j\n",
    "        piv = np.arange(0,N)\n",
    "        piv[[j,max_index]] = piv[[max_index,j]]\n",
    "        u = u[piv]\n",
    "        P = P[piv]\n",
    "        \n",
    "        #Creating the vector of gammas\n",
    "        gamma = u[j+1:, j] / u[j, j]\n",
    "        \n",
    "        #Creating matrix \\Lambda_i\n",
    "        lam[j+1:, j] = -gamma\n",
    "        \n",
    "        #Acting with \\Lambda_i on A to get U\n",
    "        u = lam @ u\n",
    "        \n",
    "        #Creating matrix \\Lambda_i^{-1}\n",
    "        lam[j+1:, j] = gamma\n",
    "            \n",
    "        #Multiplying L and \\Lambda_i^{-1} o get new L\n",
    "        L = L @ lam\n",
    "        if j>=1:\n",
    "            L[:,0:j] = L[:,0:j][piv]\n",
    "        \n",
    "    return L, u, P"
   ]
  },
  {
   "cell_type": "code",
   "execution_count": 317,
   "metadata": {},
   "outputs": [
    {
     "data": {
      "text/plain": [
       "(array([[1.        , 0.        , 0.        , 0.        , 0.        ,\n",
       "         0.        ],\n",
       "        [1.        , 1.        , 0.        , 0.        , 0.        ,\n",
       "         0.        ],\n",
       "        [1.        , 0.5       , 1.        , 0.        , 0.        ,\n",
       "         0.        ],\n",
       "        [1.        , 0.72727273, 0.70588235, 1.        , 0.        ,\n",
       "         0.        ],\n",
       "        [1.        , 0.85714286, 0.40993789, 0.83482143, 1.        ,\n",
       "         0.        ],\n",
       "        [1.        , 0.94117647, 0.17849899, 0.4255677 , 0.78870221,\n",
       "         1.        ]]),\n",
       " array([[ 3.00000000e+00,  3.00000000e+00,  3.00000000e+00,\n",
       "          3.00000000e+00,  3.00000000e+00,  3.00000000e+00],\n",
       "        [ 0.00000000e+00, -2.25000000e+00, -2.57142857e+00,\n",
       "         -2.70000000e+00, -2.76923077e+00, -2.81250000e+00],\n",
       "        [ 0.00000000e+00,  0.00000000e+00, -3.50649351e-01,\n",
       "         -5.78571429e-01, -7.33031674e-01, -8.43750000e-01],\n",
       "        [ 0.00000000e+00,  0.00000000e+00,  2.77555756e-17,\n",
       "          2.42136380e-02,  4.86615163e-02,  6.96142093e-02],\n",
       "        [ 0.00000000e+00,  2.22044605e-16, -2.31709493e-17,\n",
       "          0.00000000e+00, -6.46187856e-04, -1.51605479e-03],\n",
       "        [ 0.00000000e+00, -1.75127070e-16,  6.46310228e-18,\n",
       "          0.00000000e+00,  0.00000000e+00,  6.73010748e-06]]),\n",
       " array([[1., 0., 0., 0., 0., 0.],\n",
       "        [0., 0., 0., 0., 0., 1.],\n",
       "        [0., 1., 0., 0., 0., 0.],\n",
       "        [0., 0., 1., 0., 0., 0.],\n",
       "        [0., 0., 0., 1., 0., 0.],\n",
       "        [0., 0., 0., 0., 1., 0.]]))"
      ]
     },
     "execution_count": 317,
     "metadata": {},
     "output_type": "execute_result"
    }
   ],
   "source": [
    "diy_lu_piv(a)"
   ]
  },
  {
   "cell_type": "code",
   "execution_count": 318,
   "metadata": {},
   "outputs": [
    {
     "data": {
      "text/plain": [
       "(array([[1.        , 0.        , 0.        , 0.        , 0.        ,\n",
       "         0.        ],\n",
       "        [1.        , 1.        , 0.        , 0.        , 0.        ,\n",
       "         0.        ],\n",
       "        [1.        , 0.        , 1.        , 0.        , 0.        ,\n",
       "         0.        ],\n",
       "        [1.        , 0.72727273, 0.1512605 , 1.        , 0.        ,\n",
       "         0.        ],\n",
       "        [1.        , 0.85714286, 0.08784383, 0.51421669, 1.        ,\n",
       "         0.        ],\n",
       "        [1.        , 0.94117647, 0.03824978, 0.2076544 , 0.64143198,\n",
       "         1.        ]]),\n",
       " array([[ 3.00000000e+00,  3.00000000e+00,  3.00000000e+00,\n",
       "          3.00000000e+00,  3.00000000e+00,  3.00000000e+00],\n",
       "        [ 0.00000000e+00, -2.25000000e+00, -2.57142857e+00,\n",
       "         -2.70000000e+00, -2.76923077e+00, -2.81250000e+00],\n",
       "        [ 0.00000000e+00,  0.00000000e+00, -1.63636364e+00,\n",
       "         -1.92857143e+00, -2.11764706e+00, -2.25000000e+00],\n",
       "        [ 0.00000000e+00,  0.00000000e+00,  2.77555756e-17,\n",
       "         -9.24730366e-02, -1.48456245e-01, -1.85637892e-01],\n",
       "        [ 0.00000000e+00,  2.22044605e-16, -1.42723802e-17,\n",
       "          0.00000000e+00,  1.84094605e-03,  3.82101258e-03],\n",
       "        [ 0.00000000e+00, -1.42426510e-16,  3.39119367e-18,\n",
       "          0.00000000e+00,  0.00000000e+00, -1.23295047e-05]]),\n",
       " array([[1., 0., 0., 0., 0., 0.],\n",
       "        [0., 0., 0., 0., 0., 1.],\n",
       "        [0., 1., 0., 0., 0., 0.],\n",
       "        [0., 0., 1., 0., 0., 0.],\n",
       "        [0., 0., 0., 1., 0., 0.],\n",
       "        [0., 0., 0., 0., 1., 0.]]))"
      ]
     },
     "execution_count": 318,
     "metadata": {},
     "output_type": "execute_result"
    }
   ],
   "source": [
    "diy_lu_piv(a1)"
   ]
  },
  {
   "cell_type": "markdown",
   "metadata": {},
   "source": [
    "Sum all elements in matrix `L1` and `u1` separately (for Google Form)."
   ]
  },
  {
   "cell_type": "code",
   "execution_count": 337,
   "metadata": {},
   "outputs": [
    {
     "data": {
      "text/plain": [
       "15.166249240140566"
      ]
     },
     "execution_count": 337,
     "metadata": {},
     "output_type": "execute_result"
    }
   ],
   "source": [
    "L1, u1, P1 = diy_lu_piv(a1)\n",
    "def sumColumn(matrix):\n",
    "    return np.sum(matrix, axis=1)\n",
    "sum(sumColumn(L1))"
   ]
  },
  {
   "cell_type": "code",
   "execution_count": 338,
   "metadata": {},
   "outputs": [
    {
     "data": {
      "text/plain": [
       "-3.4566590083280793"
      ]
     },
     "execution_count": 338,
     "metadata": {},
     "output_type": "execute_result"
    }
   ],
   "source": [
    "sum(sumColumn(u1))"
   ]
  }
 ],
 "metadata": {
  "kernelspec": {
   "display_name": "Python 3",
   "language": "python",
   "name": "python3"
  },
  "language_info": {
   "codemirror_mode": {
    "name": "ipython",
    "version": 3
   },
   "file_extension": ".py",
   "mimetype": "text/x-python",
   "name": "python",
   "nbconvert_exporter": "python",
   "pygments_lexer": "ipython3",
   "version": "3.7.1"
  }
 },
 "nbformat": 4,
 "nbformat_minor": 2
}
